{
  "nbformat": 4,
  "nbformat_minor": 0,
  "metadata": {
    "colab": {
      "name": "March_Simulation.ipynb",
      "provenance": []
    },
    "kernelspec": {
      "display_name": "Python 3",
      "language": "python",
      "name": "python3"
    },
    "language_info": {
      "codemirror_mode": {
        "name": "ipython",
        "version": 3
      },
      "file_extension": ".py",
      "mimetype": "text/x-python",
      "name": "python",
      "nbconvert_exporter": "python",
      "pygments_lexer": "ipython3",
      "version": "3.8.5"
    }
  },
  "cells": [
    {
      "cell_type": "code",
      "metadata": {
        "id": "JE7GwebfCOAf"
      },
      "source": [
        "import os\n",
        "import sys\n",
        "\n",
        "import numpy as np\n",
        "\n",
        "import matplotlib.pyplot as plt\n",
        "from matplotlib.animation import FuncAnimation\n",
        "import math\n",
        "from matplotlib.animation import PillowWriter\n",
        "import matplotlib.patches as patches"
      ],
      "execution_count": null,
      "outputs": []
    },
    {
      "cell_type": "code",
      "metadata": {
        "id": "bfbaT2phCOAx"
      },
      "source": [
        "%matplotlib qt"
      ],
      "execution_count": null,
      "outputs": []
    },
    {
      "cell_type": "markdown",
      "metadata": {
        "id": "HGcQK_ecf30T"
      },
      "source": [
        "# Population"
      ]
    },
    {
      "cell_type": "code",
      "metadata": {
        "id": "BAW66LyvCOAx"
      },
      "source": [
        "def initialize_population(pop_size, xbounds = [0, 1], ybounds = [0, 0.8]):\n",
        "    '''\n",
        "    0 : unique ID\n",
        "    1 : current x coordinate\n",
        "    2 : current y coordinate\n",
        "    3 : current heading in x direction\n",
        "    4 : current heading in y direction\n",
        "    5 : current speed\n",
        "    6 : moving\n",
        "    7 : current state (0=healthy, 1=sick, 2=low_risk)\n",
        "    \n",
        "    '''\n",
        "\n",
        "\n",
        "    population = np.zeros((pop_size, 8))\n",
        "\n",
        "    \n",
        "    population[:,0] = [x for x in range(pop_size)]\n",
        "\n",
        "    \n",
        "    population[:,1] = np.random.uniform(low = xbounds[0] + 0.05, high = xbounds[1] - 0.05, \n",
        "                                        size = (pop_size,))\n",
        "    population[:,2] = np.random.uniform(low = ybounds[0] + 0.05, high = ybounds[1] - 0.05, \n",
        "                                        size=(pop_size,))\n",
        "\n",
        "    \n",
        "    population[:,3] = np.random.normal(loc = 0, scale = 1/3, \n",
        "                                       size=(pop_size,))\n",
        "    population[:,4] = np.random.normal(loc = 0, scale = 0.000001, \n",
        "                                       size=(pop_size,))\n",
        "\n",
        "    \n",
        "    population[:,5] = np.random.normal(0.01, 0.01/3)\n",
        "\n",
        "    population[:50,7] = 1\n",
        "    \n",
        "    \n",
        "    \n",
        "    return population\n"
      ],
      "execution_count": null,
      "outputs": []
    },
    {
      "cell_type": "markdown",
      "metadata": {
        "id": "rb-cW1TKf30V"
      },
      "source": [
        "# Movement"
      ]
    },
    {
      "cell_type": "code",
      "metadata": {
        "id": "ovDP-69MCOAz"
      },
      "source": [
        "def move(population):\n",
        "    \n",
        "    population = update_positions(population)\n",
        "    \n",
        "    for i in range(len(population)):\n",
        "        if population[i,2] <= 0.5 and population[i,2] >= 0.2:\n",
        "            population[i,6] = 1\n",
        "            \n",
        "    return population            "
      ],
      "execution_count": null,
      "outputs": []
    },
    {
      "cell_type": "code",
      "metadata": {
        "id": "u-cS5-RvCOAz"
      },
      "source": [
        "def update_positions(population):\n",
        "    \n",
        "    #x\n",
        "    population[:,1][(population[:,6] == 1)] = population[:,1][(population[:,6] == 1)] + (population[:,3][(population[:,6] == 1)] * population[:,5][(population[:,6] == 1)]/1.5)\n",
        "    #y\n",
        "    population[:,2][(population[:,6] == 1)] = population[:,2][(population[:,6] == 1)] + (population [:,4][(population[:,6] == 1)] * population[:,5][(population[:,6] == 1)]/1.5)\n",
        "   \n",
        "    \n",
        "    return population"
      ],
      "execution_count": null,
      "outputs": []
    },
    {
      "cell_type": "code",
      "metadata": {
        "id": "qEbFG468COA0"
      },
      "source": [
        "def get_off(population, frame):\n",
        "    \n",
        "    get_off = np.random.choice(population[:,0], 175)\n",
        "    \n",
        "    for i in range(len(population)):\n",
        "        if population[i,0] in get_off:\n",
        "            population[i,6] = 2\n",
        "    return population"
      ],
      "execution_count": null,
      "outputs": []
    },
    {
      "cell_type": "code",
      "metadata": {
        "id": "VPGhkyGtCOA3"
      },
      "source": [
        "def update_positions1(population):\n",
        "    #x&y heading\n",
        "    population[:,3][(population[:,6] == 2)] = 0.5 - population[:,1][(population[:,6] == 2)]\n",
        "    population[:,4][(population[:,6] == 2)] = 0.05 - population[:,2][(population[:,6] == 2)]\n",
        "    \n",
        "    #x\n",
        "    population[:,1][(population[:,6] == 2)] = population[:,1][(population[:,6] == 2)] + (population[:,3][(population[:,6] == 2)] * (population[:,5][(population[:,6] == 2)]*5))\n",
        "    #y\n",
        "    population[:,2][(population[:,6] == 2)] = population[:,2][(population[:,6] == 2)] + (population [:,4][(population[:,6] == 2)] * (population[:,5][(population[:,6] == 2)]*5))\n",
        "\n",
        "    return population"
      ],
      "execution_count": null,
      "outputs": []
    },
    {
      "cell_type": "code",
      "metadata": {
        "id": "goLw_PrzCOA3"
      },
      "source": [
        "def out_of_bounds(population, xbounds, ybounds):\n",
        "\n",
        "    shp = population[:,3][(population[:,1] <= xbounds[:,0]) &\n",
        "                          (population[:,3] < 0)].shape\n",
        "    population[:,3][(population[:,1] <= xbounds[:,0]) &\n",
        "                    (population[:,3] < 0)] = np.random.normal(loc = 0.5, \n",
        "                                                              scale = 0.5/3,\n",
        "                                                              size = shp)\n",
        "\n",
        "    shp = population[:,3][(population[:,1] >= xbounds[:,1]) &\n",
        "                          (population[:,3] > 0)].shape\n",
        "    population[:,3][(population[:,1] >= xbounds[:,1]) &\n",
        "                    (population[:,3] > 0)] = -np.random.normal(loc = 0.5, \n",
        "                                                                scale = 0.5/3,\n",
        "                                                                size = shp)\n",
        "\n",
        "\n",
        "    shp = population[:,4][(population[:,2] <= ybounds[:,0]) &\n",
        "                          (population[:,4] < 0)].shape\n",
        "    population[:,4][(population[:,2] <= ybounds[:,0]) &\n",
        "                    (population[:,4] < 0)] = np.random.normal(loc = 0.5, \n",
        "                                                              scale = 0.5/3,\n",
        "                                                              size = shp)\n",
        "\n",
        "    shp = population[:,4][(population[:,2] >= ybounds[:,1]) &\n",
        "                          (population[:,4] > 0)].shape\n",
        "    population[:,4][(population[:,2] >= ybounds[:,1]) &\n",
        "                    (population[:,4] > 0)] = -np.random.normal(loc = 0.5, \n",
        "                                                               scale = 0.5/3,\n",
        "                                                               size = shp)\n",
        "\n",
        "    return population\n"
      ],
      "execution_count": null,
      "outputs": []
    },
    {
      "cell_type": "code",
      "metadata": {
        "id": "NHeO2ktlCOA4"
      },
      "source": [
        "def update_randoms(population, xheading_update_chance=0.02, yheading_update_chance=2,\n",
        "                   speed_update_chance=0.02):\n",
        "\n",
        "    #x\n",
        "    update = np.random.random(size=(pop_size,))\n",
        "    shp = update[update <= xheading_update_chance].shape\n",
        "    population[:,3][update <= xheading_update_chance] = np.random.normal(loc = 0, \n",
        "                                                       scale = 1/3,\n",
        "                                                       size = shp)\n",
        "    #y\n",
        "    update = np.random.random(size=(pop_size,))\n",
        "    shp = update[update <= yheading_update_chance].shape\n",
        "    population[:,4][update <= yheading_update_chance] = np.random.normal(loc = 0, \n",
        "                                                       scale = 1/3,\n",
        "                                                       size = shp)\n",
        "    #speed\n",
        "    update = np.random.random(size=(pop_size,))\n",
        "    shp = update[update <= speed_update_chance].shape\n",
        "    population[:,5][update <= speed_update_chance] = np.random.normal(loc = 0.01, \n",
        "                                                       scale = 0.01/3,\n",
        "                                                       size = shp)    \n",
        "    return population"
      ],
      "execution_count": null,
      "outputs": []
    },
    {
      "cell_type": "markdown",
      "metadata": {
        "id": "yBZi3p2Gf30f"
      },
      "source": [
        "# Infection"
      ]
    },
    {
      "cell_type": "code",
      "metadata": {
        "id": "9O8KvUMcCOA5"
      },
      "source": [
        "def infect(population,frame):\n",
        "\n",
        "\n",
        "    infection_range = 0.1\n",
        "    r = infection_range/1.7\n",
        "    infected_before = population[population[:,7] == 1]\n",
        "    healthy_before = population[population[:,7] == 0]\n",
        "    infection_zone = (r**2) * math.pi\n",
        "\n",
        "\n",
        "    dist = []\n",
        "    def distance(a,b):\n",
        "        for x in range(len(a)): \n",
        "            for y in range(len(b)):\n",
        "                if population[y][7]==0:\n",
        "                    dis = np.sqrt((a[x][1] - b[y][1])**2 + (a[x][2] - b[y][2])**2) #print the distance\n",
        "\n",
        "                    dist.append(dis)\n",
        "                    if dis <= infection_zone:\n",
        "                        population[y,7] = 2\n",
        "    distance(infected_before, population)                           \n",
        "    \n",
        "    return population\n"
      ],
      "execution_count": null,
      "outputs": []
    },
    {
      "cell_type": "markdown",
      "metadata": {
        "id": "x3GJfzCrf30i"
      },
      "source": [
        "# Visualization"
      ]
    },
    {
      "cell_type": "code",
      "metadata": {
        "id": "5bFqtQJ1COA6"
      },
      "source": [
        "def update(frame, population,\n",
        "           xbounds=[0.02, 0.98], ybounds=[0.02, 0.98], \n",
        "           visualise=True, infected_plot = []):\n",
        "\n",
        "\n",
        "    _xbounds = np.array([[xbounds[0] + 0.02, xbounds[1] - 0.02]] * len(population))\n",
        "    _ybounds = np.array([[ybounds[0] + 0.02, ybounds[1] - 0.02]] * len(population))\n",
        "    population = out_of_bounds(population, _xbounds, _ybounds)\n",
        " \n",
        "\n",
        "    population = update_randoms(population)\n",
        "    population = move(population)\n",
        "    population = update_positions1(population)\n",
        "    population = infect(population, frame)\n",
        "    infected_plot.append(len(population[population[:,7] == 2]))\n",
        "    \n",
        "        \n",
        "        \n",
        "    if frame%30==0:\n",
        "        population = get_off(population, frame)\n",
        "    \n",
        "\n",
        "    if visualise:\n",
        "        \n",
        "        ax1.clear()\n",
        "        \n",
        "        ax1.scatter(population[:,1][(population[:,6] == 0)], population[:,2][(population[:,6] == 0)], color=\"gray\", s = 2, label='healthy') \n",
        "        ax1.scatter(population[:,1][(population[:,6] == 1)], population[:,2][(population[:,6] == 1)], color=\"gray\", s = 2, label='healthy')\n",
        "        ax1.scatter(population[:,1][(population[:,6] == 2)], population[:,2][(population[:,6] == 2)], color=\"gray\", s = 2, label='healthy')\n",
        "        \n",
        "        ax1.scatter(population[:,1][(population[:,7] == 0)], population[:,2][(population[:,7] == 0)], color=\"gray\", s = 2, label='healthy')\n",
        "        ax1.scatter(population[:,1][(population[:,7] == 1)], population[:,2][(population[:,7] == 1)], color=\"red\", s = 2, label='healthy')\n",
        "        ax1.scatter(population[:,1][(population[:,7] == 2)], population[:,2][(population[:,7] == 2)], color=\"orange\", s = 2, label='healthy')\n",
        "        \n",
        "            \n",
        "        rec=patches.Rectangle((0.42,0.01), 0.15, 0.15, color=\"r\", fill=False)\n",
        "        ax1.add_patch(rec)\n",
        "        rec1=patches.Rectangle((0.425,0.015), 0.14, 0.14, color=\"w\", fill=True)\n",
        "        ax1.add_patch(rec1)\n",
        "        \n",
        "        ax1.text(xbounds[0], \n",
        "                 ybounds[1]-0.1, \n",
        "                 'timestep: %i' %(frame), fontsize=6)\n",
        "        \n",
        "        plt.axis([0,1,0,0.8])\n",
        "        plt.tick_params(bottom=False, labelbottom=False,\n",
        "                        left=False, labelleft=False)\n",
        "        \n",
        "        ax2.set_ylim(0, pop_size + 100)\n",
        "        ax2.plot(infected_plot, color='gray')\n",
        "        \n",
        "        plt.show()"
      ],
      "execution_count": null,
      "outputs": []
    },
    {
      "cell_type": "code",
      "metadata": {
        "id": "KQqTWOT7COA6"
      },
      "source": [
        "if __name__ == '__main__':\n",
        "\n",
        "    #simulation parameters\n",
        "    pop_size = 3600\n",
        "    simulation_steps = 540   \n",
        "    xbounds = [0, 1] \n",
        "    ybounds = [0, 0.8]\n",
        "    \n",
        "    fig = plt.figure(figsize=(5,5))\n",
        "    spec = fig.add_gridspec(ncols=1, nrows=2, height_ratios=[5,3])\n",
        "    \n",
        "    ax2 = fig.add_subplot(spec[1,0])\n",
        "    ax2.set_title('number of infected')\n",
        "    ax2.set_xlim(0, simulation_steps)\n",
        "    ax2.set_ylim(0, pop_size/2)\n",
        "    \n",
        "    population = initialize_population(pop_size)\n",
        "\n",
        "    ax1 = fig.add_subplot(spec[0,0])\n",
        "    plt.title('infection simulation')\n",
        "    plt.xlim(xbounds[0], xbounds[1])\n",
        "    plt.ylim(ybounds[0], ybounds[1])\n",
        "\n",
        "\n",
        "\n",
        "    if not os.path.exists('render/'):\n",
        "        os.makedirs('render/')\n",
        "           \n",
        "    \n",
        "\n",
        "    animation = FuncAnimation(fig, update, fargs = (population,), frames = simulation_steps, interval = 33)\n",
        "    plt.show()\n",
        "    \n",
        "    #animation.save(\"mart2.gif\", writer=PillowWriter(fps=24))\n",
        "    \n",
        "\n",
        "    "
      ],
      "execution_count": null,
      "outputs": []
    }
  ]
}